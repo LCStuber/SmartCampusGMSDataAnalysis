{
 "cells": [
  {
   "cell_type": "markdown",
   "metadata": {},
   "source": [
    "## Smart Lights"
   ]
  },
  {
   "cell_type": "code",
   "execution_count": 29,
   "metadata": {},
   "outputs": [],
   "source": [
    "import pandas as pd\n",
    "import seaborn as sns\n",
    "import numpy as np\n",
    "import matplotlib.pyplot as plt\n",
    "import warnings\n",
    "warnings.filterwarnings(\"ignore\")"
   ]
  },
  {
   "cell_type": "code",
   "execution_count": 30,
   "metadata": {},
   "outputs": [],
   "source": [
    "data_fields = [\n",
    "    \"applicationID\", \"applicationName\", \"data_boardVoltage\", \"data_counter\", \n",
    "    \"data_counter_0d_0\", \"data_counter_0d_1\", \"devEUI\", \"fCnt\", \"fPort\", \"host\", \n",
    "    \"nodeName\", \"rxInfo_altitude_0\", \"rxInfo_altitude_1\", \"rxInfo_latitude_0\", \n",
    "    \"rxInfo_latitude_1\", \"rxInfo_loRaSNR_0\", \"rxInfo_loRaSNR_1\", \n",
    "    \"rxInfo_longitude_0\", \"rxInfo_longitude_1\", \"rxInfo_mac_0\", \"rxInfo_mac_1\", \n",
    "    \"rxInfo_name_0\", \"rxInfo_name_1\", \"rxInfo_rssi_0\", \"rxInfo_rssi_1\", \"time\", \n",
    "    \"txInfo_adr\", \"txInfo_codeRate\", \"txInfo_dataRate_bandwidth\", \n",
    "    \"txInfo_dataRate_modulation\", \"txInfo_dataRate_spreadFactor\", \n",
    "    \"txInfo_frequency\"\n",
    "]\n",
    "\n",
    "df_smart_lights = pd.read_csv(r'data/SmartLights.csv', header=3, usecols=data_fields)"
   ]
  },
  {
   "cell_type": "code",
   "execution_count": 31,
   "metadata": {},
   "outputs": [],
   "source": [
    "dfs_smart_lights_per_node = {app_id: df_node for app_id, df_node in df_smart_lights.groupby(\"devEUI\")}\n",
    "ids = list(dfs_smart_lights_per_node.keys())"
   ]
  },
  {
   "cell_type": "code",
   "execution_count": 32,
   "metadata": {},
   "outputs": [
    {
     "name": "stdout",
     "output_type": "stream",
     "text": [
      "3.1345\n"
     ]
    },
    {
     "data": {
      "text/plain": [
       "light_status\n",
       "off    86\n",
       "on     30\n",
       "Name: count, dtype: int64"
      ]
     },
     "execution_count": 32,
     "metadata": {},
     "output_type": "execute_result"
    }
   ],
   "source": [
    "# I want to check if the smart lights are on or off\n",
    "# What is data_counter_0d_0 and data_counter_0d_1?\n"
   ]
  },
  {
   "cell_type": "code",
   "execution_count": null,
   "metadata": {},
   "outputs": [],
   "source": []
  }
 ],
 "metadata": {
  "kernelspec": {
   "display_name": "Python 3",
   "language": "python",
   "name": "python3"
  },
  "language_info": {
   "codemirror_mode": {
    "name": "ipython",
    "version": 3
   },
   "file_extension": ".py",
   "mimetype": "text/x-python",
   "name": "python",
   "nbconvert_exporter": "python",
   "pygments_lexer": "ipython3",
   "version": "3.12.0"
  }
 },
 "nbformat": 4,
 "nbformat_minor": 2
}
