{
 "cells": [
  {
   "cell_type": "markdown",
   "metadata": {},
   "source": [
    "## Watertank Level"
   ]
  },
  {
   "cell_type": "code",
   "execution_count": 1,
   "metadata": {},
   "outputs": [],
   "source": [
    "import pandas as pd\n",
    "import seaborn as sns\n",
    "import numpy as np\n",
    "import matplotlib.pyplot as plt"
   ]
  },
  {
   "cell_type": "code",
   "execution_count": 2,
   "metadata": {},
   "outputs": [],
   "source": [
    "data_fields = [\n",
    "    \"applicationID\", \"applicationName\", \"data_boardVoltage\", \"data_distance\", \n",
    "    \"devEUI\", \"fCnt\", \"fPort\", \"host\", \"nodeName\", \"rxInfo_altitude_0\", \n",
    "    \"rxInfo_altitude_1\", \"rxInfo_latitude_0\", \"rxInfo_latitude_1\", \n",
    "    \"rxInfo_loRaSNR_0\", \"rxInfo_loRaSNR_1\", \"rxInfo_longitude_0\", \n",
    "    \"rxInfo_longitude_1\", \"rxInfo_mac_0\", \"rxInfo_mac_1\", \"rxInfo_name_0\", \n",
    "    \"rxInfo_name_1\", \"rxInfo_rssi_0\", \"rxInfo_rssi_1\", \"time\", \"txInfo_adr\", \n",
    "    \"txInfo_codeRate\", \"txInfo_dataRate_bandwidth\", \"txInfo_dataRate_modulation\", \n",
    "    \"txInfo_dataRate_spreadFactor\", \"txInfo_frequency\"\n",
    "]\n",
    "\n",
    "df_water_tank = pd.read_csv(r'data/WaterTankLevel.csv', header=3, usecols=data_fields)"
   ]
  },
  {
   "cell_type": "code",
   "execution_count": 3,
   "metadata": {},
   "outputs": [
    {
     "data": {
      "text/plain": [
       "['0004a30b00001001',\n",
       " '0004a30b00001002',\n",
       " '0004a30b00001003',\n",
       " '0004a30b00001004',\n",
       " '0004a30b00001005',\n",
       " '0004a30b00001006',\n",
       " '0004a30b00001007',\n",
       " '0004a30b00001008']"
      ]
     },
     "execution_count": 3,
     "metadata": {},
     "output_type": "execute_result"
    }
   ],
   "source": [
    "dfs_water_tank_per_node = {app_id: df_node for app_id, df_node in df_water_tank.groupby(\"devEUI\")}\n",
    "ids = list(dfs_water_tank_per_node.keys())\n",
    "ids"
   ]
  }
 ],
 "metadata": {
  "kernelspec": {
   "display_name": "Python 3",
   "language": "python",
   "name": "python3"
  },
  "language_info": {
   "codemirror_mode": {
    "name": "ipython",
    "version": 3
   },
   "file_extension": ".py",
   "mimetype": "text/x-python",
   "name": "python",
   "nbconvert_exporter": "python",
   "pygments_lexer": "ipython3",
   "version": "3.12.0"
  }
 },
 "nbformat": 4,
 "nbformat_minor": 2
}
